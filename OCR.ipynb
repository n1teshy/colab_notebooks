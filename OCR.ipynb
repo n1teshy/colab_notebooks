{
  "nbformat": 4,
  "nbformat_minor": 0,
  "metadata": {
    "colab": {
      "provenance": [],
      "gpuType": "T4",
      "toc_visible": true,
      "authorship_tag": "ABX9TyNkPawp+JXsgju3uKbaqomY",
      "include_colab_link": true
    },
    "kernelspec": {
      "name": "python3",
      "display_name": "Python 3"
    },
    "language_info": {
      "name": "python"
    },
    "accelerator": "GPU"
  },
  "cells": [
    {
      "cell_type": "markdown",
      "metadata": {
        "id": "view-in-github",
        "colab_type": "text"
      },
      "source": [
        "<a href=\"https://colab.research.google.com/github/n1teshy/colab_notebooks/blob/main/OCR.ipynb\" target=\"_parent\"><img src=\"https://colab.research.google.com/assets/colab-badge.svg\" alt=\"Open In Colab\"/></a>"
      ]
    },
    {
      "cell_type": "code",
      "source": [
        "!unzip train.zip -d .\n",
        "!unzip eval.zip -d .\n",
        "!mkdir samples\n",
        "!mv train eval samples\n",
        "!rm train.zip eval.zip"
      ],
      "metadata": {
        "id": "z4PeIx1bulls"
      },
      "execution_count": null,
      "outputs": []
    },
    {
      "cell_type": "code",
      "execution_count": null,
      "metadata": {
        "id": "ubmYa1hvuGoV"
      },
      "outputs": [],
      "source": [
        "!pip install torch"
      ]
    },
    {
      "cell_type": "code",
      "source": [
        "import os\n",
        "import torch\n",
        "import random\n",
        "\n",
        "from PIL import Image\n",
        "from torch.utils.data import Dataset, DataLoader\n",
        "from transformers import AutoTokenizer, TrOCRProcessor, VisionEncoderDecoderModel, VisionEncoderDecoderConfig"
      ],
      "metadata": {
        "id": "0PI-JFy8k7mx"
      },
      "execution_count": 2,
      "outputs": []
    },
    {
      "cell_type": "code",
      "source": [
        "def get_labels(path: str) -> dict:\n",
        "    lines = open(path).read().splitlines()\n",
        "    splits = [line.split(\":\", 2) for line in lines]\n",
        "    mappings = {split[0]: split[1] for split in splits if len(split) == 2}\n",
        "    return mappings\n",
        "\n",
        "\n",
        "class ImageDataset(Dataset):\n",
        "    def __init__(self, directory: str, use_label_file: bool = True) -> None:\n",
        "        self.directory = directory\n",
        "        _, __, self.files = next(os.walk(directory))\n",
        "        if use_label_file:\n",
        "            labels = get_labels(os.path.join(self.directory, f\"meta/labels.txt\"))\n",
        "        else:\n",
        "            labels = {file: os.path.splitext(file)[0] for file in self.files}\n",
        "        if len(labels) != len(self.files):\n",
        "            print(f\"number of files does not equal number of label\")\n",
        "        max_label_tokens = max(\n",
        "            len(tokenizer(label)[\"input_ids\"]) for label in labels.values()\n",
        "        )\n",
        "        self.tokenized_labels = {\n",
        "            file: tokenizer(label, padding=\"max_length\", max_length=max_label_tokens)[\n",
        "                \"input_ids\"\n",
        "            ]\n",
        "            for file, label in labels.items()\n",
        "        }\n",
        "        self.lengths = {\n",
        "            file: len(label) - label.count(tokenizer.pad_token_id)\n",
        "            for file, label in self.tokenized_labels.items()\n",
        "        }\n",
        "\n",
        "    def __len__(self) -> int:\n",
        "        return len(self.files)\n",
        "\n",
        "    def __getitem__(self, idx):\n",
        "        file = self.files[idx]\n",
        "        image = Image.open(os.path.join(self.directory, file)).convert(\"RGB\")\n",
        "        image = processor(images=image, return_tensors=\"pt\").pixel_values.squeeze(0).to(DEVICE)\n",
        "        return (\n",
        "            image,\n",
        "            torch.tensor(\n",
        "                [self.tokenized_labels[file]],\n",
        "                device=DEVICE\n",
        "            ),\n",
        "            torch.tensor(self.lengths[file], device=DEVICE),\n",
        "        )"
      ],
      "metadata": {
        "id": "K4SEDepoGdXh"
      },
      "execution_count": 4,
      "outputs": []
    },
    {
      "cell_type": "code",
      "source": [
        "MODEL_NAME = \"microsoft/trocr-large-handwritten\"\n",
        "IMAGE_DIR = \"samples/train\"\n",
        "DEVICE = torch.device(\"cuda\" if torch.cuda.is_available() else \"cpu\")"
      ],
      "metadata": {
        "id": "hjd6CiS7nQaq"
      },
      "execution_count": 5,
      "outputs": []
    },
    {
      "cell_type": "code",
      "source": [
        "tokenizer = AutoTokenizer.from_pretrained(MODEL_NAME)\n",
        "processor = TrOCRProcessor.from_pretrained(MODEL_NAME)\n",
        "model_config = VisionEncoderDecoderConfig.from_pretrained(MODEL_NAME)\n",
        "model_config.decoder_start_token_id = tokenizer.cls_token_id\n",
        "model_config.pad_token_id = tokenizer.pad_token_id\n",
        "model = VisionEncoderDecoderModel.from_pretrained(MODEL_NAME, config=model_config)\n",
        "model = model.to(DEVICE)"
      ],
      "metadata": {
        "id": "Pk6SMSijlQcW"
      },
      "execution_count": null,
      "outputs": []
    },
    {
      "cell_type": "code",
      "source": [
        "EPOCHS = 10\n",
        "BATCH_SIZE = 8\n",
        "LEARNING_RATE = 3e-3\n",
        "PROGRESS_CHECK_ITERVAL = 10\n",
        "losses = []\n",
        "average_loss = 0"
      ],
      "metadata": {
        "id": "1n7f-CqgyXbL"
      },
      "execution_count": 8,
      "outputs": []
    },
    {
      "cell_type": "code",
      "source": [
        "train_dataset = ImageDataset(\"samples/train\")\n",
        "eval_dataset = ImageDataset(\"samples/eval\")\n",
        "train_dataloader = DataLoader(train_dataset, batch_size=BATCH_SIZE, shuffle=True)\n",
        "eval_dataloader = DataLoader(eval_dataset, batch_size=BATCH_SIZE)\n",
        "optimizer = torch.optim.AdamW(model.parameters(), lr=LEARNING_RATE)"
      ],
      "metadata": {
        "id": "FyJ00Vh6x9Oo"
      },
      "execution_count": 9,
      "outputs": []
    },
    {
      "cell_type": "code",
      "source": [
        "def get_val_loss():\n",
        "  with torch.no_grad():\n",
        "    for images, labels, lengths in eval_dataloader:\n",
        "      out, loss = model(pixel_values=images, labels=labels)\n",
        "      return loss.item()"
      ],
      "metadata": {
        "id": "hewvkDe2Mq4S"
      },
      "execution_count": 10,
      "outputs": []
    },
    {
      "cell_type": "code",
      "source": [
        "for epoch in range(EPOCHS):\n",
        "  batch_iters = 0\n",
        "  for images, labels, lengths in train_dataloader:\n",
        "    optimizer.zero_grad()\n",
        "    out, loss = model(pixel_values=images, labels=labels)\n",
        "    cur_loss = loss.item()\n",
        "    losses.append(cur_loss)\n",
        "    avg_loss = (average_loss + cur_loss)/(epoch+1)\n",
        "    print(f\"current: {cur_loss}, average: {avg_loss}\")\n",
        "    loss.backward()\n",
        "    optimizer.step()\n",
        "    batch_iters += 1\n",
        "    if batch_iters % PROGRESS_CHECK_ITERVAL == 0:\n",
        "      print(f\"eval loss: {get_val_loss()}\")"
      ],
      "metadata": {
        "id": "krDRcSbsEYxA"
      },
      "execution_count": null,
      "outputs": []
    }
  ]
}